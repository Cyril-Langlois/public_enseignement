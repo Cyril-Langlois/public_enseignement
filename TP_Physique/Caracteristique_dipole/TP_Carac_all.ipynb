{
 "cells": [
  {
   "cell_type": "code",
   "execution_count": 23,
   "id": "125b92e2",
   "metadata": {},
   "outputs": [],
   "source": [
    "import numpy as np\n",
    "import matplotlib.pyplot as plt\n",
    "import pandas as pd\n",
    "\n"
   ]
  },
  {
   "cell_type": "code",
   "execution_count": 24,
   "id": "e8240d19",
   "metadata": {},
   "outputs": [],
   "source": [
    "# entrée des données numériques dans des tableaux Numpy\n",
    "\n",
    "Rs = 1.01 #résistance de shunt, en ohm\n",
    "\n",
    "U_dip = np.array([200, 234, 259, 279, 302, 334]) # tension aux bornes du dipole étudié, en mV\n",
    "Us = np.array([102, 123, 145, 168, 188, 201]) # tension aux bornes de la résistance de shunt (pour le courant), en mV\n",
    "Rv = [1000, 680, 480, 347, 270, 110] # résistance de shunt, en ohm \n",
    "i_dip = Us / Rs # intensité, en mA"
   ]
  },
  {
   "cell_type": "code",
   "execution_count": 47,
   "id": "49bbc0a6",
   "metadata": {},
   "outputs": [
    {
     "data": {
      "text/html": [
       "<div>\n",
       "<style scoped>\n",
       "    .dataframe tbody tr th:only-of-type {\n",
       "        vertical-align: middle;\n",
       "    }\n",
       "\n",
       "    .dataframe tbody tr th {\n",
       "        vertical-align: top;\n",
       "    }\n",
       "\n",
       "    .dataframe thead th {\n",
       "        text-align: right;\n",
       "    }\n",
       "</style>\n",
       "<table border=\"1\" class=\"dataframe\">\n",
       "  <thead>\n",
       "    <tr style=\"text-align: right;\">\n",
       "      <th></th>\n",
       "      <th>U_dip (mV)</th>\n",
       "      <th>Us (mV)</th>\n",
       "      <th>i_dip (mA)</th>\n",
       "      <th>Rv (ohm)</th>\n",
       "    </tr>\n",
       "  </thead>\n",
       "  <tbody>\n",
       "    <tr>\n",
       "      <th>0</th>\n",
       "      <td>200</td>\n",
       "      <td>102</td>\n",
       "      <td>100.990099</td>\n",
       "      <td>1000</td>\n",
       "    </tr>\n",
       "    <tr>\n",
       "      <th>1</th>\n",
       "      <td>234</td>\n",
       "      <td>123</td>\n",
       "      <td>121.782178</td>\n",
       "      <td>680</td>\n",
       "    </tr>\n",
       "    <tr>\n",
       "      <th>2</th>\n",
       "      <td>259</td>\n",
       "      <td>145</td>\n",
       "      <td>143.564356</td>\n",
       "      <td>480</td>\n",
       "    </tr>\n",
       "    <tr>\n",
       "      <th>3</th>\n",
       "      <td>279</td>\n",
       "      <td>168</td>\n",
       "      <td>166.336634</td>\n",
       "      <td>347</td>\n",
       "    </tr>\n",
       "    <tr>\n",
       "      <th>4</th>\n",
       "      <td>302</td>\n",
       "      <td>188</td>\n",
       "      <td>186.138614</td>\n",
       "      <td>270</td>\n",
       "    </tr>\n",
       "    <tr>\n",
       "      <th>5</th>\n",
       "      <td>334</td>\n",
       "      <td>201</td>\n",
       "      <td>199.009901</td>\n",
       "      <td>110</td>\n",
       "    </tr>\n",
       "  </tbody>\n",
       "</table>\n",
       "</div>"
      ],
      "text/plain": [
       "   U_dip (mV)  Us (mV)  i_dip (mA)  Rv (ohm)\n",
       "0         200      102  100.990099      1000\n",
       "1         234      123  121.782178       680\n",
       "2         259      145  143.564356       480\n",
       "3         279      168  166.336634       347\n",
       "4         302      188  186.138614       270\n",
       "5         334      201  199.009901       110"
      ]
     },
     "execution_count": 47,
     "metadata": {},
     "output_type": "execute_result"
    }
   ],
   "source": [
    "# création d'un dictionnaire contenant les en-têtes de colonne et les colonnes de données :\n",
    "\n",
    "Rs = 1.01 # Ohms\n",
    "dict = {\"U_dip (mV)\" : U_dip,\n",
    "       \"Us (mV)\" : Us, \n",
    "       \"i_dip (mA)\" : i_dip,\n",
    "        \"Rv (ohm)\" : Rv}\n",
    "\n",
    "\n",
    "# création d'un objet DataFrame de la librairie Pandas.\n",
    "data = pd.DataFrame(dict)\n",
    "data # visualisation du tableau de valeurs"
   ]
  },
  {
   "cell_type": "code",
   "execution_count": 52,
   "id": "df63b45b",
   "metadata": {},
   "outputs": [
    {
     "data": {
      "text/plain": [
       "Text(0, 0.5, 'i_dip (mA)')"
      ]
     },
     "execution_count": 52,
     "metadata": {},
     "output_type": "execute_result"
    },
    {
     "data": {
      "image/png": "[encoded data removed]",
      "text/plain": [
       "<Figure size 432x288 with 1 Axes>"
      ]
     },
     "metadata": {
      "needs_background": "light"
     },
     "output_type": "display_data"
    }
   ],
   "source": [
    "plt.figure(1)\n",
    "plt.plot(i_dip, U_dip)\n",
    "plt.title(\"Caractéristique du dipôle XXX\")\n",
    "plt.xlabel(\"U_dip (mV)\")\n",
    "plt.ylabel(\"i_dip (mA)\")"
   ]
  },
  {
   "cell_type": "code",
   "execution_count": null,
   "id": "712a666c",
   "metadata": {},
   "outputs": [],
   "source": []
  },
  {
   "cell_type": "code",
   "execution_count": null,
   "id": "c9c100a4",
   "metadata": {},
   "outputs": [],
   "source": []
  },
  {
   "cell_type": "code",
   "execution_count": null,
   "id": "b64874f4",
   "metadata": {},
   "outputs": [],
   "source": []
  }
 ],
 "metadata": {
  "kernelspec": {
   "display_name": "Python 3 (ipykernel)",
   "language": "python",
   "name": "python3"
  },
  "language_info": {
   "codemirror_mode": {
    "name": "ipython",
    "version": 3
   },
   "file_extension": ".py",
   "mimetype": "text/x-python",
   "name": "python",
   "nbconvert_exporter": "python",
   "pygments_lexer": "ipython3",
   "version": "3.7.9"
  }
 },
 "nbformat": 4,
 "nbformat_minor": 5
}
